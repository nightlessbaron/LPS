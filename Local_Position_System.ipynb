{
  "nbformat": 4,
  "nbformat_minor": 0,
  "metadata": {
    "kernelspec": {
      "display_name": "Python 3",
      "language": "python",
      "name": "python3"
    },
    "language_info": {
      "codemirror_mode": {
        "name": "ipython",
        "version": 3
      },
      "file_extension": ".py",
      "mimetype": "text/x-python",
      "name": "python",
      "nbconvert_exporter": "python",
      "pygments_lexer": "ipython3",
      "version": "3.6.5"
    },
    "colab": {
      "name": "Local Position System.ipynb",
      "provenance": []
    }
  },
  "cells": [
    {
      "cell_type": "code",
      "metadata": {
        "id": "4bRQ1jyikK3j",
        "colab_type": "code",
        "outputId": "465bc148-7edc-4b3f-8551-f13242b213f7",
        "colab": {
          "base_uri": "https://localhost:8080/",
          "height": 121
        }
      },
      "source": [
        "from google.colab import drive\n",
        "drive.mount('/content/drive')"
      ],
      "execution_count": 1,
      "outputs": [
        {
          "output_type": "stream",
          "text": [
            "Go to this URL in a browser: https://accounts.google.com/o/oauth2/auth?client_id=947318989803-6bn6qk8qdgf4n4g3pfee6491hc0brc4i.apps.googleusercontent.com&redirect_uri=urn%3Aietf%3Awg%3Aoauth%3A2.0%3Aoob&scope=email%20https%3A%2F%2Fwww.googleapis.com%2Fauth%2Fdocs.test%20https%3A%2F%2Fwww.googleapis.com%2Fauth%2Fdrive%20https%3A%2F%2Fwww.googleapis.com%2Fauth%2Fdrive.photos.readonly%20https%3A%2F%2Fwww.googleapis.com%2Fauth%2Fpeopleapi.readonly&response_type=code\n",
            "\n",
            "Enter your authorization code:\n",
            "··········\n",
            "Mounted at /content/drive\n"
          ],
          "name": "stdout"
        }
      ]
    },
    {
      "cell_type": "code",
      "metadata": {
        "id": "hIgcOXj3kmyC",
        "colab_type": "code",
        "colab": {}
      },
      "source": [
        "import os\n",
        "os.chdir(\"drive/My Drive/LPS\")"
      ],
      "execution_count": 0,
      "outputs": []
    },
    {
      "cell_type": "code",
      "metadata": {
        "id": "U2eJ2Y0RlAsQ",
        "colab_type": "code",
        "outputId": "1e964721-31ce-4be2-c535-e581fad598d4",
        "colab": {
          "base_uri": "https://localhost:8080/",
          "height": 185
        }
      },
      "source": [
        "os.listdir()"
      ],
      "execution_count": 3,
      "outputs": [
        {
          "output_type": "execute_result",
          "data": {
            "text/plain": [
              "['labels.txt',\n",
              " 'ececlassroom.jpg',\n",
              " 'computerlab.jpg',\n",
              " 'facultyroom.jpg',\n",
              " 'appliedsciencelab.jpg',\n",
              " 'Final_Data_LPSv3.csv',\n",
              " '0',\n",
              " '1',\n",
              " '2',\n",
              " '3']"
            ]
          },
          "metadata": {
            "tags": []
          },
          "execution_count": 3
        }
      ]
    },
    {
      "cell_type": "code",
      "metadata": {
        "id": "HISIYsd90Vlq",
        "colab_type": "code",
        "colab": {}
      },
      "source": [
        "os.chdir(\"..\")"
      ],
      "execution_count": 0,
      "outputs": []
    },
    {
      "cell_type": "code",
      "metadata": {
        "id": "esxLLNIE0LAd",
        "colab_type": "code",
        "outputId": "4e4c5be5-ac35-48aa-968a-7dcfa965290a",
        "colab": {
          "base_uri": "https://localhost:8080/",
          "height": 34
        }
      },
      "source": [
        "import tensorflow as tf\n",
        "import numpy as np\n",
        "import pandas as pd\n",
        "from skimage import data\n",
        "import os \n",
        "import cv2\n",
        "from os import listdir\n",
        "from os.path import isfile, join\n",
        "from tensorflow.keras import layers\n",
        "from sklearn.utils import shuffle\n",
        "import keras as K\n",
        "from keras.layers import Flatten, Dense, Input\n",
        "from keras.models import Model\n",
        "from keras.preprocessing import sequence, image"
      ],
      "execution_count": 5,
      "outputs": [
        {
          "output_type": "stream",
          "text": [
            "Using TensorFlow backend.\n"
          ],
          "name": "stderr"
        }
      ]
    },
    {
      "cell_type": "code",
      "metadata": {
        "id": "CX0nmrg50MHR",
        "colab_type": "code",
        "outputId": "962b76fd-57f5-4e7f-c40b-fb1cd2390035",
        "colab": {
          "base_uri": "https://localhost:8080/",
          "height": 50
        }
      },
      "source": [
        "from keras.preprocessing.image import ImageDataGenerator\n",
        "datagen = ImageDataGenerator(\n",
        "                             \n",
        "                             samplewise_center=True,\n",
        "                             rescale=1. / 255,\n",
        "                             horizontal_flip=True,\n",
        "                             fill_mode='nearest',\n",
        "                             width_shift_range=0.1,\n",
        "                             height_shift_range=0.1,\n",
        "                             validation_split=0.3\n",
        "                             \n",
        "                             )\n",
        "\n",
        "\n",
        "train_generator = datagen.flow_from_directory(\n",
        "        'LPS',  # this is the target directory\n",
        "        color_mode=\"rgb\",\n",
        "        target_size=(100, 100),  # all images will be resized to 150x150\n",
        "        batch_size=32,\n",
        "        shuffle=True,\n",
        "        class_mode='categorical',\n",
        "        seed=50,\n",
        "        classes=['Applied_Lab','Computer_Lab','ECE_Classroom','Faculty_Room'],\n",
        "        subset=\"training\"\n",
        "        \n",
        "        )\n",
        "\n",
        "\n",
        "validation_generator = datagen.flow_from_directory(\n",
        "        'LPS',  # this is the target directory\n",
        "        color_mode=\"rgb\",\n",
        "        target_size=(100, 100),  # all images will be resized to 150x150\n",
        "        batch_size=32,\n",
        "        shuffle=True,\n",
        "        class_mode='categorical',\n",
        "        seed=50,\n",
        "        classes=['Applied_Lab','Computer_Lab','ECE_Classroom','Faculty_Room'],\n",
        "        subset=\"validation\"\n",
        "        )"
      ],
      "execution_count": 22,
      "outputs": [
        {
          "output_type": "stream",
          "text": [
            "Found 1414 images belonging to 4 classes.\n",
            "Found 606 images belonging to 4 classes.\n"
          ],
          "name": "stdout"
        }
      ]
    },
    {
      "cell_type": "code",
      "metadata": {
        "id": "NvMDkIHP0pHH",
        "colab_type": "code",
        "outputId": "091dc60e-f01b-4751-9933-d0e80bd3259f",
        "colab": {
          "base_uri": "https://localhost:8080/",
          "height": 1000
        }
      },
      "source": [
        "import tensorflow as tf\n",
        "import os\n",
        "import keras\n",
        "from keras.callbacks import Callback\n",
        "from keras.models import Sequential\n",
        "from keras.layers import Dense, Activation, Dropout, Flatten, Conv2D, MaxPooling2D,BatchNormalization,GlobalAveragePooling2D\n",
        "from keras import backend as K\n",
        "img_width, img_height = 100, 100\n",
        "\n",
        "\n",
        "if K.image_data_format() == 'channels_first':\n",
        "    input_shape = (3, img_width, img_height)\n",
        "else:\n",
        "    input_shape = (img_width, img_height, 3)\n",
        "\n",
        "\n",
        "model = Sequential()\n",
        "\n",
        "#model.add(Conv2D(64, kernel_size=(3, 3),strides=(1),padding='same',input_shape=input_shape))\n",
        "model.add(Conv2D(64, kernel_size=(3, 3),input_shape=input_shape))\n",
        "model.add(Conv2D(64, (3, 3)))\n",
        "model.add(BatchNormalization())\n",
        "model.add(Activation('relu'))\n",
        "model.add(MaxPooling2D(pool_size=(2, 2)))\n",
        "model.add(Dropout(0.4))\n",
        "\n",
        "\n",
        "#model.add(Conv2D(32, (3, 3),strides=(1),padding='same'))\n",
        "model.add(Conv2D(32, (3, 3)))\n",
        "model.add(Conv2D(32, (3, 3)))\n",
        "model.add(BatchNormalization())\n",
        "model.add(Activation('relu'))\n",
        "model.add(MaxPooling2D(pool_size=(2, 2)))\n",
        "model.add(Dropout(0.4))\n",
        "\n",
        "\n",
        "model.add(Conv2D(16, (3, 3)))\n",
        "model.add(Conv2D(16, (3, 3)))\n",
        "model.add(BatchNormalization())\n",
        "model.add(Activation('relu'))\n",
        "model.add(MaxPooling2D(pool_size=(2, 2)))\n",
        "model.add(Dropout(0.5))\n",
        "\n",
        "model.add(GlobalAveragePooling2D())\n",
        "#model.add(Flatten())\n",
        "model.add(Dense(8))\n",
        "model.add(BatchNormalization())\n",
        "model.add(Activation('relu'))          \n",
        "model.add(Dropout(0.5))\n",
        "model.add(Dense(4, activation='softmax'))\n",
        "\n",
        "\n",
        "filepath=\"weights_best.hdf5\" # checkpoint\n",
        "checkpoint = keras.callbacks.ModelCheckpoint(filepath, monitor='val_categorical_accuracy', verbose=1, save_best_only=True, mode='max')\n",
        "\n",
        "\n",
        "#checkpoint = ModelCheckpoint('model-{epoch:03d}-{acc:03f}-{val_acc:03f}.h5', verbose=1, monitor='val_loss',save_best_only=True, mode='auto')  \n",
        "\n",
        "model.compile(\n",
        "          #optimizer=keras.optimizers.SGD(lr=0.001,momentum=0.9, nesterov=True),      \n",
        "          optimizer='adam',\n",
        "          loss='categorical_crossentropy',\n",
        "          metrics=['categorical_accuracy'])\n",
        "\n",
        "\n",
        "\n",
        "model.summary(line_length=200)"
      ],
      "execution_count": 28,
      "outputs": [
        {
          "output_type": "stream",
          "text": [
            "Model: \"sequential_7\"\n",
            "________________________________________________________________________________________________________________________________________________________________________________________________________\n",
            "Layer (type)                                                                              Output Shape                                                                    Param #                       \n",
            "========================================================================================================================================================================================================\n",
            "conv2d_45 (Conv2D)                                                                        (None, 98, 98, 64)                                                              1792                          \n",
            "________________________________________________________________________________________________________________________________________________________________________________________________________\n",
            "conv2d_46 (Conv2D)                                                                        (None, 96, 96, 64)                                                              36928                         \n",
            "________________________________________________________________________________________________________________________________________________________________________________________________________\n",
            "batch_normalization_26 (BatchNormalization)                                               (None, 96, 96, 64)                                                              256                           \n",
            "________________________________________________________________________________________________________________________________________________________________________________________________________\n",
            "activation_26 (Activation)                                                                (None, 96, 96, 64)                                                              0                             \n",
            "________________________________________________________________________________________________________________________________________________________________________________________________________\n",
            "max_pooling2d_23 (MaxPooling2D)                                                           (None, 48, 48, 64)                                                              0                             \n",
            "________________________________________________________________________________________________________________________________________________________________________________________________________\n",
            "dropout_26 (Dropout)                                                                      (None, 48, 48, 64)                                                              0                             \n",
            "________________________________________________________________________________________________________________________________________________________________________________________________________\n",
            "conv2d_47 (Conv2D)                                                                        (None, 46, 46, 32)                                                              18464                         \n",
            "________________________________________________________________________________________________________________________________________________________________________________________________________\n",
            "conv2d_48 (Conv2D)                                                                        (None, 44, 44, 32)                                                              9248                          \n",
            "________________________________________________________________________________________________________________________________________________________________________________________________________\n",
            "batch_normalization_27 (BatchNormalization)                                               (None, 44, 44, 32)                                                              128                           \n",
            "________________________________________________________________________________________________________________________________________________________________________________________________________\n",
            "activation_27 (Activation)                                                                (None, 44, 44, 32)                                                              0                             \n",
            "________________________________________________________________________________________________________________________________________________________________________________________________________\n",
            "max_pooling2d_24 (MaxPooling2D)                                                           (None, 22, 22, 32)                                                              0                             \n",
            "________________________________________________________________________________________________________________________________________________________________________________________________________\n",
            "dropout_27 (Dropout)                                                                      (None, 22, 22, 32)                                                              0                             \n",
            "________________________________________________________________________________________________________________________________________________________________________________________________________\n",
            "conv2d_49 (Conv2D)                                                                        (None, 20, 20, 16)                                                              4624                          \n",
            "________________________________________________________________________________________________________________________________________________________________________________________________________\n",
            "conv2d_50 (Conv2D)                                                                        (None, 18, 18, 16)                                                              2320                          \n",
            "________________________________________________________________________________________________________________________________________________________________________________________________________\n",
            "batch_normalization_28 (BatchNormalization)                                               (None, 18, 18, 16)                                                              64                            \n",
            "________________________________________________________________________________________________________________________________________________________________________________________________________\n",
            "activation_28 (Activation)                                                                (None, 18, 18, 16)                                                              0                             \n",
            "________________________________________________________________________________________________________________________________________________________________________________________________________\n",
            "max_pooling2d_25 (MaxPooling2D)                                                           (None, 9, 9, 16)                                                                0                             \n",
            "________________________________________________________________________________________________________________________________________________________________________________________________________\n",
            "dropout_28 (Dropout)                                                                      (None, 9, 9, 16)                                                                0                             \n",
            "________________________________________________________________________________________________________________________________________________________________________________________________________\n",
            "conv2d_51 (Conv2D)                                                                        (None, 7, 7, 16)                                                                2320                          \n",
            "________________________________________________________________________________________________________________________________________________________________________________________________________\n",
            "conv2d_52 (Conv2D)                                                                        (None, 5, 5, 16)                                                                2320                          \n",
            "________________________________________________________________________________________________________________________________________________________________________________________________________\n",
            "batch_normalization_29 (BatchNormalization)                                               (None, 5, 5, 16)                                                                64                            \n",
            "________________________________________________________________________________________________________________________________________________________________________________________________________\n",
            "activation_29 (Activation)                                                                (None, 5, 5, 16)                                                                0                             \n",
            "________________________________________________________________________________________________________________________________________________________________________________________________________\n",
            "max_pooling2d_26 (MaxPooling2D)                                                           (None, 2, 2, 16)                                                                0                             \n",
            "________________________________________________________________________________________________________________________________________________________________________________________________________\n",
            "dropout_29 (Dropout)                                                                      (None, 2, 2, 16)                                                                0                             \n",
            "________________________________________________________________________________________________________________________________________________________________________________________________________\n",
            "global_average_pooling2d_1 (GlobalAveragePooling2D)                                       (None, 16)                                                                      0                             \n",
            "________________________________________________________________________________________________________________________________________________________________________________________________________\n",
            "dense_7 (Dense)                                                                           (None, 8)                                                                       136                           \n",
            "________________________________________________________________________________________________________________________________________________________________________________________________________\n",
            "batch_normalization_30 (BatchNormalization)                                               (None, 8)                                                                       32                            \n",
            "________________________________________________________________________________________________________________________________________________________________________________________________________\n",
            "activation_30 (Activation)                                                                (None, 8)                                                                       0                             \n",
            "________________________________________________________________________________________________________________________________________________________________________________________________________\n",
            "dropout_30 (Dropout)                                                                      (None, 8)                                                                       0                             \n",
            "________________________________________________________________________________________________________________________________________________________________________________________________________\n",
            "dense_8 (Dense)                                                                           (None, 4)                                                                       36                            \n",
            "========================================================================================================================================================================================================\n",
            "Total params: 78,732\n",
            "Trainable params: 78,460\n",
            "Non-trainable params: 272\n",
            "________________________________________________________________________________________________________________________________________________________________________________________________________\n"
          ],
          "name": "stdout"
        }
      ]
    },
    {
      "cell_type": "code",
      "metadata": {
        "id": "1whvkjGJ20F4",
        "colab_type": "code",
        "outputId": "4cd75907-b72f-44a8-ef6b-c7b1ed34ce98",
        "colab": {
          "base_uri": "https://localhost:8080/",
          "height": 709
        }
      },
      "source": [
        "final_model=model.fit_generator(train_generator,\n",
        "                    steps_per_epoch=train_generator.samples //32,\n",
        "                    validation_data = validation_generator,\n",
        "                    validation_steps=validation_generator.samples // 32,\n",
        "                    epochs=10,\n",
        "                    verbose=1,\n",
        "                    shuffle=True,\n",
        "                    callbacks=[checkpoint])\n",
        "\n",
        "model.save('weights_best1.hdf5')"
      ],
      "execution_count": 29,
      "outputs": [
        {
          "output_type": "stream",
          "text": [
            "Epoch 1/10\n",
            "44/44 [==============================] - 162s 4s/step - loss: 1.4054 - categorical_accuracy: 0.4211 - val_loss: 1.3743 - val_categorical_accuracy: 0.4479\n",
            "\n",
            "Epoch 00001: val_categorical_accuracy improved from -inf to 0.44792, saving model to weights_best.hdf5\n",
            "Epoch 2/10\n",
            "44/44 [==============================] - 157s 4s/step - loss: 1.0339 - categorical_accuracy: 0.5499 - val_loss: 1.0701 - val_categorical_accuracy: 0.6028\n",
            "\n",
            "Epoch 00002: val_categorical_accuracy improved from 0.44792 to 0.60279, saving model to weights_best.hdf5\n",
            "Epoch 3/10\n",
            "44/44 [==============================] - 157s 4s/step - loss: 0.9220 - categorical_accuracy: 0.6085 - val_loss: 0.9955 - val_categorical_accuracy: 0.7387\n",
            "\n",
            "Epoch 00003: val_categorical_accuracy improved from 0.60279 to 0.73868, saving model to weights_best.hdf5\n",
            "Epoch 4/10\n",
            "44/44 [==============================] - 158s 4s/step - loss: 0.8029 - categorical_accuracy: 0.7078 - val_loss: 1.1915 - val_categorical_accuracy: 0.4059\n",
            "\n",
            "Epoch 00004: val_categorical_accuracy did not improve from 0.73868\n",
            "Epoch 5/10\n",
            "44/44 [==============================] - 158s 4s/step - loss: 0.7619 - categorical_accuracy: 0.7394 - val_loss: 1.0392 - val_categorical_accuracy: 0.7352\n",
            "\n",
            "Epoch 00005: val_categorical_accuracy did not improve from 0.73868\n",
            "Epoch 6/10\n",
            "44/44 [==============================] - 157s 4s/step - loss: 0.7481 - categorical_accuracy: 0.7737 - val_loss: 1.0894 - val_categorical_accuracy: 0.6202\n",
            "\n",
            "Epoch 00006: val_categorical_accuracy did not improve from 0.73868\n",
            "Epoch 7/10\n",
            "44/44 [==============================] - 157s 4s/step - loss: 0.6917 - categorical_accuracy: 0.7879 - val_loss: 0.9145 - val_categorical_accuracy: 0.8171\n",
            "\n",
            "Epoch 00007: val_categorical_accuracy improved from 0.73868 to 0.81707, saving model to weights_best.hdf5\n",
            "Epoch 8/10\n",
            "44/44 [==============================] - 156s 4s/step - loss: 0.6848 - categorical_accuracy: 0.7919 - val_loss: 1.1543 - val_categorical_accuracy: 0.4059\n",
            "\n",
            "Epoch 00008: val_categorical_accuracy did not improve from 0.81707\n",
            "Epoch 9/10\n",
            "44/44 [==============================] - 159s 4s/step - loss: 0.6353 - categorical_accuracy: 0.8239 - val_loss: 0.9985 - val_categorical_accuracy: 0.6359\n",
            "\n",
            "Epoch 00009: val_categorical_accuracy did not improve from 0.81707\n",
            "Epoch 10/10\n",
            "44/44 [==============================] - 154s 3s/step - loss: 0.6464 - categorical_accuracy: 0.8177 - val_loss: 0.9231 - val_categorical_accuracy: 0.7439\n",
            "\n",
            "Epoch 00010: val_categorical_accuracy did not improve from 0.81707\n"
          ],
          "name": "stdout"
        }
      ]
    },
    {
      "cell_type": "code",
      "metadata": {
        "id": "FU6HvCpA21gy",
        "colab_type": "code",
        "colab": {
          "base_uri": "https://localhost:8080/",
          "height": 336
        },
        "outputId": "ecada08d-f5e7-47b6-971c-bb40bb36fb91"
      },
      "source": [
        "from keras.models import load_model\n",
        "#model =load_model('drive/My Drive/final_try3')\n",
        "model =load_model('weights_best1.hdf5')\n",
        "\n",
        "\n",
        "import cv2\n",
        "import matplotlib.pyplot as plt\n",
        "import matplotlib.image as mpimg\n",
        "import numpy as np \n",
        "\"\"\"\n",
        "'computerlab.jpg'\n",
        "'facultyroom.jpg'\n",
        "'appliedsciencelab.jpg'\n",
        " \"\"\"\n",
        "img = cv2.imread('LPS/computerlab.jpg')\n",
        "img=cv2.cv2.cvtColor(img, cv2.COLOR_BGR2RGB)\n",
        "img = cv2.resize(img,(100,100))\n",
        "img = np.reshape(img,[100,100,3])\n",
        "img = img/255.\n",
        "classes=model.predict_classes(np.expand_dims(img, axis=0))\n",
        "print (classes)\n",
        "classes=model.predict(np.expand_dims(img, axis=0))\n",
        "#train_generator.class_indices\n",
        "print (classes)\n",
        "print (\"------------------------------------------------------------------\")\n",
        "plt.imshow(img)"
      ],
      "execution_count": 33,
      "outputs": [
        {
          "output_type": "stream",
          "text": [
            "[3]\n",
            "[[0.16758007 0.19611415 0.29741567 0.33889008]]\n",
            "------------------------------------------------------------------\n"
          ],
          "name": "stdout"
        },
        {
          "output_type": "execute_result",
          "data": {
            "text/plain": [
              "<matplotlib.image.AxesImage at 0x7f31ddedeb00>"
            ]
          },
          "metadata": {
            "tags": []
          },
          "execution_count": 33
        },
        {
          "output_type": "display_data",
          "data": {
            "image/png": "[encoded data removed]",
            "text/plain": [
              "<Figure size 432x288 with 1 Axes>"
            ]
          },
          "metadata": {
            "tags": []
          }
        }
      ]
    }
  ]
}